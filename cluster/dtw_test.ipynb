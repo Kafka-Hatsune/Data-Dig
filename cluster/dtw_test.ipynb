{
 "cells": [
  {
   "cell_type": "code",
   "execution_count": 1,
   "metadata": {},
   "outputs": [
    {
     "data": {
      "text/plain": [
       "(7.0710678118654755,\n",
       " array([[1.41421356],\n",
       "        [1.41421356],\n",
       "        [4.24264069]]),\n",
       " array([[1.41421356],\n",
       "        [2.82842712],\n",
       "        [7.07106781]]),\n",
       " (range(0, 3), array([0., 0., 0.])))"
      ]
     },
     "execution_count": 1,
     "metadata": {},
     "output_type": "execute_result"
    }
   ],
   "source": [
    "from dtw import dtw\n",
    "import numpy as np\n",
    "\n",
    "# 假设有两个二维点序列\n",
    "sequence1 = np.array([[1, 2], [3, 4], [5, 6]])\n",
    "sequence2 = np.array([[2, 3]])\n",
    "\n",
    "# 定义自定义距离度量函数\n",
    "def euclidean_distance(x, y):\n",
    "    return np.sqrt(np.sum((x - y) ** 2))\n",
    "\n",
    "# 创建DTW对象，并指定距离度量函数\n",
    "distance = dtw(sequence1, sequence2, dist=euclidean_distance)\n",
    "# distance[0]\n",
    "distance\n"
   ]
  },
  {
   "cell_type": "code",
   "execution_count": 2,
   "metadata": {},
   "outputs": [
    {
     "data": {
      "text/plain": [
       "7.0710678118654755"
      ]
     },
     "execution_count": 2,
     "metadata": {},
     "output_type": "execute_result"
    }
   ],
   "source": [
    "distance[0]"
   ]
  }
 ],
 "metadata": {
  "kernelspec": {
   "display_name": "Python 3.12.0 ('ox')",
   "language": "python",
   "name": "python3"
  },
  "language_info": {
   "codemirror_mode": {
    "name": "ipython",
    "version": 3
   },
   "file_extension": ".py",
   "mimetype": "text/x-python",
   "name": "python",
   "nbconvert_exporter": "python",
   "pygments_lexer": "ipython3",
   "version": "3.12.0"
  },
  "orig_nbformat": 4,
  "vscode": {
   "interpreter": {
    "hash": "aff6909269560dcfa4774f5121b7582e37140b96a52ea79e035a0a2c25a75e23"
   }
  }
 },
 "nbformat": 4,
 "nbformat_minor": 2
}
