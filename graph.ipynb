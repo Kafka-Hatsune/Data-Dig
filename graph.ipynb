{
 "cells": [
  {
   "cell_type": "code",
   "execution_count": 1,
   "metadata": {},
   "outputs": [],
   "source": [
    "import pandas as pd\n",
    "import networkx as nx \n",
    "import matplotlib.pyplot as plt"
   ]
  },
  {
   "cell_type": "code",
   "execution_count": 2,
   "metadata": {},
   "outputs": [
    {
     "data": {
      "text/html": [
       "<div>\n",
       "<style scoped>\n",
       "    .dataframe tbody tr th:only-of-type {\n",
       "        vertical-align: middle;\n",
       "    }\n",
       "\n",
       "    .dataframe tbody tr th {\n",
       "        vertical-align: top;\n",
       "    }\n",
       "\n",
       "    .dataframe thead th {\n",
       "        text-align: right;\n",
       "    }\n",
       "</style>\n",
       "<table border=\"1\" class=\"dataframe\">\n",
       "  <thead>\n",
       "    <tr style=\"text-align: right;\">\n",
       "      <th></th>\n",
       "      <th>coordinate</th>\n",
       "    </tr>\n",
       "  </thead>\n",
       "  <tbody>\n",
       "    <tr>\n",
       "      <th>0</th>\n",
       "      <td>(116.3894407, 39.9062721)</td>\n",
       "    </tr>\n",
       "    <tr>\n",
       "      <th>1</th>\n",
       "      <td>(116.3894463, 39.9060115)</td>\n",
       "    </tr>\n",
       "    <tr>\n",
       "      <th>2</th>\n",
       "      <td>(116.386428, 39.9061687)</td>\n",
       "    </tr>\n",
       "    <tr>\n",
       "      <th>3</th>\n",
       "      <td>(116.3856338, 39.9061421)</td>\n",
       "    </tr>\n",
       "    <tr>\n",
       "      <th>4</th>\n",
       "      <td>(116.3930703, 39.906394)</td>\n",
       "    </tr>\n",
       "    <tr>\n",
       "      <th>...</th>\n",
       "      <td>...</td>\n",
       "    </tr>\n",
       "    <tr>\n",
       "      <th>49725</th>\n",
       "      <td>(116.4061092, 39.8315409)</td>\n",
       "    </tr>\n",
       "    <tr>\n",
       "      <th>49726</th>\n",
       "      <td>(116.4060903, 39.8321389)</td>\n",
       "    </tr>\n",
       "    <tr>\n",
       "      <th>49727</th>\n",
       "      <td>(116.4060871, 39.8328152)</td>\n",
       "    </tr>\n",
       "    <tr>\n",
       "      <th>49728</th>\n",
       "      <td>(116.406125, 39.833363)</td>\n",
       "    </tr>\n",
       "    <tr>\n",
       "      <th>49729</th>\n",
       "      <td>(116.4059676, 39.8338401)</td>\n",
       "    </tr>\n",
       "  </tbody>\n",
       "</table>\n",
       "<p>49730 rows × 1 columns</p>\n",
       "</div>"
      ],
      "text/plain": [
       "                      coordinate\n",
       "0      (116.3894407, 39.9062721)\n",
       "1      (116.3894463, 39.9060115)\n",
       "2       (116.386428, 39.9061687)\n",
       "3      (116.3856338, 39.9061421)\n",
       "4       (116.3930703, 39.906394)\n",
       "...                          ...\n",
       "49725  (116.4061092, 39.8315409)\n",
       "49726  (116.4060903, 39.8321389)\n",
       "49727  (116.4060871, 39.8328152)\n",
       "49728    (116.406125, 39.833363)\n",
       "49729  (116.4059676, 39.8338401)\n",
       "\n",
       "[49730 rows x 1 columns]"
      ]
     },
     "execution_count": 2,
     "metadata": {},
     "output_type": "execute_result"
    }
   ],
   "source": [
    "road_node = pd.read_csv('data/road_node.csv')\n",
    "road_node"
   ]
  },
  {
   "cell_type": "code",
   "execution_count": 3,
   "metadata": {},
   "outputs": [
    {
     "data": {
      "text/html": [
       "<div>\n",
       "<style scoped>\n",
       "    .dataframe tbody tr th:only-of-type {\n",
       "        vertical-align: middle;\n",
       "    }\n",
       "\n",
       "    .dataframe tbody tr th {\n",
       "        vertical-align: top;\n",
       "    }\n",
       "\n",
       "    .dataframe thead th {\n",
       "        text-align: right;\n",
       "    }\n",
       "</style>\n",
       "<table border=\"1\" class=\"dataframe\">\n",
       "  <thead>\n",
       "    <tr style=\"text-align: right;\">\n",
       "      <th></th>\n",
       "      <th>old_id</th>\n",
       "      <th>coordinate1</th>\n",
       "      <th>coordinate2</th>\n",
       "      <th>dis</th>\n",
       "    </tr>\n",
       "  </thead>\n",
       "  <tbody>\n",
       "    <tr>\n",
       "      <th>0</th>\n",
       "      <td>0</td>\n",
       "      <td>(116.3894407, 39.9062721)</td>\n",
       "      <td>(116.3894463, 39.9060115)</td>\n",
       "      <td>28.939117</td>\n",
       "    </tr>\n",
       "    <tr>\n",
       "      <th>1</th>\n",
       "      <td>1</td>\n",
       "      <td>(116.3894407, 39.9062721)</td>\n",
       "      <td>(116.386428, 39.9061687)</td>\n",
       "      <td>257.873361</td>\n",
       "    </tr>\n",
       "    <tr>\n",
       "      <th>2</th>\n",
       "      <td>1</td>\n",
       "      <td>(116.386428, 39.9061687)</td>\n",
       "      <td>(116.3856338, 39.9061421)</td>\n",
       "      <td>67.976743</td>\n",
       "    </tr>\n",
       "    <tr>\n",
       "      <th>3</th>\n",
       "      <td>2</td>\n",
       "      <td>(116.3930703, 39.906394)</td>\n",
       "      <td>(116.3894407, 39.9062721)</td>\n",
       "      <td>310.663605</td>\n",
       "    </tr>\n",
       "    <tr>\n",
       "      <th>4</th>\n",
       "      <td>3</td>\n",
       "      <td>(116.3970962, 39.9065222)</td>\n",
       "      <td>(116.3930703, 39.906394)</td>\n",
       "      <td>344.549935</td>\n",
       "    </tr>\n",
       "    <tr>\n",
       "      <th>...</th>\n",
       "      <td>...</td>\n",
       "      <td>...</td>\n",
       "      <td>...</td>\n",
       "      <td>...</td>\n",
       "    </tr>\n",
       "    <tr>\n",
       "      <th>85390</th>\n",
       "      <td>38025</td>\n",
       "      <td>(116.4062083, 39.8313723)</td>\n",
       "      <td>(116.406357, 39.8311645)</td>\n",
       "      <td>26.350831</td>\n",
       "    </tr>\n",
       "    <tr>\n",
       "      <th>85391</th>\n",
       "      <td>38026</td>\n",
       "      <td>(116.3121472, 39.9935096)</td>\n",
       "      <td>(116.3121727, 39.9931557)</td>\n",
       "      <td>39.355411</td>\n",
       "    </tr>\n",
       "    <tr>\n",
       "      <th>85392</th>\n",
       "      <td>38026</td>\n",
       "      <td>(116.3121727, 39.9931557)</td>\n",
       "      <td>(116.3121191, 39.9930952)</td>\n",
       "      <td>8.128968</td>\n",
       "    </tr>\n",
       "    <tr>\n",
       "      <th>85393</th>\n",
       "      <td>38026</td>\n",
       "      <td>(116.3121191, 39.9930952)</td>\n",
       "      <td>(116.3121553, 39.9926498)</td>\n",
       "      <td>49.551302</td>\n",
       "    </tr>\n",
       "    <tr>\n",
       "      <th>85394</th>\n",
       "      <td>38026</td>\n",
       "      <td>(116.3121553, 39.9926498)</td>\n",
       "      <td>(116.3121705, 39.9923178)</td>\n",
       "      <td>36.886299</td>\n",
       "    </tr>\n",
       "  </tbody>\n",
       "</table>\n",
       "<p>85395 rows × 4 columns</p>\n",
       "</div>"
      ],
      "text/plain": [
       "       old_id                coordinate1                coordinate2  \\\n",
       "0           0  (116.3894407, 39.9062721)  (116.3894463, 39.9060115)   \n",
       "1           1  (116.3894407, 39.9062721)   (116.386428, 39.9061687)   \n",
       "2           1   (116.386428, 39.9061687)  (116.3856338, 39.9061421)   \n",
       "3           2   (116.3930703, 39.906394)  (116.3894407, 39.9062721)   \n",
       "4           3  (116.3970962, 39.9065222)   (116.3930703, 39.906394)   \n",
       "...       ...                        ...                        ...   \n",
       "85390   38025  (116.4062083, 39.8313723)   (116.406357, 39.8311645)   \n",
       "85391   38026  (116.3121472, 39.9935096)  (116.3121727, 39.9931557)   \n",
       "85392   38026  (116.3121727, 39.9931557)  (116.3121191, 39.9930952)   \n",
       "85393   38026  (116.3121191, 39.9930952)  (116.3121553, 39.9926498)   \n",
       "85394   38026  (116.3121553, 39.9926498)  (116.3121705, 39.9923178)   \n",
       "\n",
       "              dis  \n",
       "0       28.939117  \n",
       "1      257.873361  \n",
       "2       67.976743  \n",
       "3      310.663605  \n",
       "4      344.549935  \n",
       "...           ...  \n",
       "85390   26.350831  \n",
       "85391   39.355411  \n",
       "85392    8.128968  \n",
       "85393   49.551302  \n",
       "85394   36.886299  \n",
       "\n",
       "[85395 rows x 4 columns]"
      ]
     },
     "execution_count": 3,
     "metadata": {},
     "output_type": "execute_result"
    }
   ],
   "source": [
    "road1 = pd.read_csv('data/road1.csv')\n",
    "road1"
   ]
  },
  {
   "cell_type": "code",
   "execution_count": 4,
   "metadata": {},
   "outputs": [],
   "source": [
    "G = nx.Graph()"
   ]
  },
  {
   "cell_type": "code",
   "execution_count": 5,
   "metadata": {},
   "outputs": [],
   "source": [
    "for i in range(len(road_node)):\n",
    "    row = road_node.iloc[i,:]\n",
    "    G.add_node(eval(row['coordinate']))"
   ]
  },
  {
   "cell_type": "code",
   "execution_count": 17,
   "metadata": {},
   "outputs": [
    {
     "data": {
      "text/plain": [
       "85395"
      ]
     },
     "execution_count": 17,
     "metadata": {},
     "output_type": "execute_result"
    }
   ],
   "source": [
    "len(road1)"
   ]
  },
  {
   "cell_type": "code",
   "execution_count": 21,
   "metadata": {},
   "outputs": [
    {
     "data": {
      "text/plain": [
       "{'weight': 39.35541100862528}"
      ]
     },
     "execution_count": 21,
     "metadata": {},
     "output_type": "execute_result"
    }
   ],
   "source": [
    "G.edges[(116.3121472, 39.9935096),(116.3121727, 39.9931557)]"
   ]
  },
  {
   "cell_type": "code",
   "execution_count": 18,
   "metadata": {},
   "outputs": [
    {
     "data": {
      "text/plain": [
       "(116.3894407, 39.9062721)"
      ]
     },
     "execution_count": 18,
     "metadata": {},
     "output_type": "execute_result"
    }
   ],
   "source": [
    "row = road1.iloc[1,:]\n",
    "eval(row['coordinate1'])"
   ]
  },
  {
   "cell_type": "code",
   "execution_count": 8,
   "metadata": {},
   "outputs": [],
   "source": [
    "for i in range(len(road1)):\n",
    "    row = road1.iloc[i,:]\n",
    "    G.add_edge(eval(row['coordinate1']), eval(row['coordinate2']), weight = row['dis'])"
   ]
  },
  {
   "cell_type": "code",
   "execution_count": 10,
   "metadata": {},
   "outputs": [
    {
     "data": {
      "text/plain": [
       "True"
      ]
     },
     "execution_count": 10,
     "metadata": {},
     "output_type": "execute_result"
    }
   ],
   "source": [
    "(116.3930703, 39.906394) in G"
   ]
  },
  {
   "cell_type": "code",
   "execution_count": 15,
   "metadata": {},
   "outputs": [
    {
     "data": {
      "text/plain": [
       "49730"
      ]
     },
     "execution_count": 15,
     "metadata": {},
     "output_type": "execute_result"
    }
   ],
   "source": [
    "len(G.nodes())"
   ]
  },
  {
   "cell_type": "code",
   "execution_count": 16,
   "metadata": {},
   "outputs": [
    {
     "data": {
      "text/plain": [
       "58412"
      ]
     },
     "execution_count": 16,
     "metadata": {},
     "output_type": "execute_result"
    }
   ],
   "source": [
    "len(G.edges())"
   ]
  },
  {
   "cell_type": "code",
   "execution_count": 9,
   "metadata": {},
   "outputs": [
    {
     "ename": "KeyboardInterrupt",
     "evalue": "",
     "output_type": "error",
     "traceback": [
      "\u001b[1;31m---------------------------------------------------------------------------\u001b[0m",
      "\u001b[1;31mKeyboardInterrupt\u001b[0m                         Traceback (most recent call last)",
      "Cell \u001b[1;32mIn[9], line 1\u001b[0m\n\u001b[1;32m----> 1\u001b[0m nx\u001b[38;5;241m.\u001b[39mdraw(G)\n",
      "File \u001b[1;32mc:\\Users\\Kafka\\anaconda3\\envs\\ox\\Lib\\site-packages\\networkx\\drawing\\nx_pylab.py:121\u001b[0m, in \u001b[0;36mdraw\u001b[1;34m(G, pos, ax, **kwds)\u001b[0m\n\u001b[0;32m    118\u001b[0m \u001b[39mif\u001b[39;00m \u001b[39m\"\u001b[39m\u001b[39mwith_labels\u001b[39m\u001b[39m\"\u001b[39m \u001b[39mnot\u001b[39;00m \u001b[39min\u001b[39;00m kwds:\n\u001b[0;32m    119\u001b[0m     kwds[\u001b[39m\"\u001b[39m\u001b[39mwith_labels\u001b[39m\u001b[39m\"\u001b[39m] \u001b[39m=\u001b[39m \u001b[39m\"\u001b[39m\u001b[39mlabels\u001b[39m\u001b[39m\"\u001b[39m \u001b[39min\u001b[39;00m kwds\n\u001b[1;32m--> 121\u001b[0m draw_networkx(G, pos\u001b[39m=\u001b[39mpos, ax\u001b[39m=\u001b[39max, \u001b[39m*\u001b[39m\u001b[39m*\u001b[39mkwds)\n\u001b[0;32m    122\u001b[0m ax\u001b[39m.\u001b[39mset_axis_off()\n\u001b[0;32m    123\u001b[0m plt\u001b[39m.\u001b[39mdraw_if_interactive()\n",
      "File \u001b[1;32mc:\\Users\\Kafka\\anaconda3\\envs\\ox\\Lib\\site-packages\\networkx\\drawing\\nx_pylab.py:301\u001b[0m, in \u001b[0;36mdraw_networkx\u001b[1;34m(G, pos, arrows, with_labels, **kwds)\u001b[0m\n\u001b[0;32m    298\u001b[0m label_kwds \u001b[39m=\u001b[39m {k: v \u001b[39mfor\u001b[39;00m k, v \u001b[39min\u001b[39;00m kwds\u001b[39m.\u001b[39mitems() \u001b[39mif\u001b[39;00m k \u001b[39min\u001b[39;00m valid_label_kwds}\n\u001b[0;32m    300\u001b[0m \u001b[39mif\u001b[39;00m pos \u001b[39mis\u001b[39;00m \u001b[39mNone\u001b[39;00m:\n\u001b[1;32m--> 301\u001b[0m     pos \u001b[39m=\u001b[39m nx\u001b[39m.\u001b[39mdrawing\u001b[39m.\u001b[39mspring_layout(G)  \u001b[39m# default to spring layout\u001b[39;00m\n\u001b[0;32m    303\u001b[0m draw_networkx_nodes(G, pos, \u001b[39m*\u001b[39m\u001b[39m*\u001b[39mnode_kwds)\n\u001b[0;32m    304\u001b[0m draw_networkx_edges(G, pos, arrows\u001b[39m=\u001b[39marrows, \u001b[39m*\u001b[39m\u001b[39m*\u001b[39medge_kwds)\n",
      "File \u001b[1;32mc:\\Users\\Kafka\\anaconda3\\envs\\ox\\Lib\\site-packages\\networkx\\utils\\decorators.py:766\u001b[0m, in \u001b[0;36margmap.__call__.<locals>.func\u001b[1;34m(_argmap__wrapper, *args, **kwargs)\u001b[0m\n\u001b[0;32m    765\u001b[0m \u001b[39mdef\u001b[39;00m \u001b[39mfunc\u001b[39m(\u001b[39m*\u001b[39margs, __wrapper\u001b[39m=\u001b[39m\u001b[39mNone\u001b[39;00m, \u001b[39m*\u001b[39m\u001b[39m*\u001b[39mkwargs):\n\u001b[1;32m--> 766\u001b[0m     \u001b[39mreturn\u001b[39;00m argmap\u001b[39m.\u001b[39m_lazy_compile(__wrapper)(\u001b[39m*\u001b[39margs, \u001b[39m*\u001b[39m\u001b[39m*\u001b[39mkwargs)\n",
      "File \u001b[1;32m<class 'networkx.utils.decorators.argmap'> compilation 4:4\u001b[0m, in \u001b[0;36margmap_spring_layout_1\u001b[1;34m(G, k, pos, fixed, iterations, threshold, weight, scale, center, dim, seed)\u001b[0m\n\u001b[0;32m      2\u001b[0m \u001b[39mimport\u001b[39;00m \u001b[39mcollections\u001b[39;00m\n\u001b[0;32m      3\u001b[0m \u001b[39mimport\u001b[39;00m \u001b[39mgzip\u001b[39;00m\n\u001b[1;32m----> 4\u001b[0m \u001b[39mimport\u001b[39;00m \u001b[39minspect\u001b[39;00m\n\u001b[0;32m      5\u001b[0m \u001b[39mimport\u001b[39;00m \u001b[39mitertools\u001b[39;00m\n\u001b[0;32m      6\u001b[0m \u001b[39mimport\u001b[39;00m \u001b[39mre\u001b[39;00m\n",
      "File \u001b[1;32mc:\\Users\\Kafka\\anaconda3\\envs\\ox\\Lib\\site-packages\\networkx\\drawing\\layout.py:482\u001b[0m, in \u001b[0;36mspring_layout\u001b[1;34m(G, k, pos, fixed, iterations, threshold, weight, scale, center, dim, seed)\u001b[0m\n\u001b[0;32m    480\u001b[0m         nnodes, _ \u001b[39m=\u001b[39m A\u001b[39m.\u001b[39mshape\n\u001b[0;32m    481\u001b[0m         k \u001b[39m=\u001b[39m dom_size \u001b[39m/\u001b[39m np\u001b[39m.\u001b[39msqrt(nnodes)\n\u001b[1;32m--> 482\u001b[0m     pos \u001b[39m=\u001b[39m _sparse_fruchterman_reingold(\n\u001b[0;32m    483\u001b[0m         A, k, pos_arr, fixed, iterations, threshold, dim, seed\n\u001b[0;32m    484\u001b[0m     )\n\u001b[0;32m    485\u001b[0m \u001b[39mexcept\u001b[39;00m \u001b[39mValueError\u001b[39;00m:\n\u001b[0;32m    486\u001b[0m     A \u001b[39m=\u001b[39m nx\u001b[39m.\u001b[39mto_numpy_array(G, weight\u001b[39m=\u001b[39mweight)\n",
      "File \u001b[1;32mc:\\Users\\Kafka\\anaconda3\\envs\\ox\\Lib\\site-packages\\networkx\\utils\\decorators.py:766\u001b[0m, in \u001b[0;36margmap.__call__.<locals>.func\u001b[1;34m(_argmap__wrapper, *args, **kwargs)\u001b[0m\n\u001b[0;32m    765\u001b[0m \u001b[39mdef\u001b[39;00m \u001b[39mfunc\u001b[39m(\u001b[39m*\u001b[39margs, __wrapper\u001b[39m=\u001b[39m\u001b[39mNone\u001b[39;00m, \u001b[39m*\u001b[39m\u001b[39m*\u001b[39mkwargs):\n\u001b[1;32m--> 766\u001b[0m     \u001b[39mreturn\u001b[39;00m argmap\u001b[39m.\u001b[39m_lazy_compile(__wrapper)(\u001b[39m*\u001b[39margs, \u001b[39m*\u001b[39m\u001b[39m*\u001b[39mkwargs)\n",
      "File \u001b[1;32m<class 'networkx.utils.decorators.argmap'> compilation 8:4\u001b[0m, in \u001b[0;36margmap__sparse_fruchterman_reingold_5\u001b[1;34m(A, k, pos, fixed, iterations, threshold, dim, seed)\u001b[0m\n\u001b[0;32m      2\u001b[0m \u001b[39mimport\u001b[39;00m \u001b[39mcollections\u001b[39;00m\n\u001b[0;32m      3\u001b[0m \u001b[39mimport\u001b[39;00m \u001b[39mgzip\u001b[39;00m\n\u001b[1;32m----> 4\u001b[0m \u001b[39mimport\u001b[39;00m \u001b[39minspect\u001b[39;00m\n\u001b[0;32m      5\u001b[0m \u001b[39mimport\u001b[39;00m \u001b[39mitertools\u001b[39;00m\n\u001b[0;32m      6\u001b[0m \u001b[39mimport\u001b[39;00m \u001b[39mre\u001b[39;00m\n",
      "File \u001b[1;32mc:\\Users\\Kafka\\anaconda3\\envs\\ox\\Lib\\site-packages\\networkx\\drawing\\layout.py:618\u001b[0m, in \u001b[0;36m_sparse_fruchterman_reingold\u001b[1;34m(A, k, pos, fixed, iterations, threshold, dim, seed)\u001b[0m\n\u001b[0;32m    616\u001b[0m delta \u001b[39m=\u001b[39m (pos[i] \u001b[39m-\u001b[39m pos)\u001b[39m.\u001b[39mT\n\u001b[0;32m    617\u001b[0m \u001b[39m# distance between points\u001b[39;00m\n\u001b[1;32m--> 618\u001b[0m distance \u001b[39m=\u001b[39m np\u001b[39m.\u001b[39msqrt((delta\u001b[39m*\u001b[39m\u001b[39m*\u001b[39m\u001b[39m2\u001b[39m)\u001b[39m.\u001b[39msum(axis\u001b[39m=\u001b[39m\u001b[39m0\u001b[39m))\n\u001b[0;32m    619\u001b[0m \u001b[39m# enforce minimum distance of 0.01\u001b[39;00m\n\u001b[0;32m    620\u001b[0m distance \u001b[39m=\u001b[39m np\u001b[39m.\u001b[39mwhere(distance \u001b[39m<\u001b[39m \u001b[39m0.01\u001b[39m, \u001b[39m0.01\u001b[39m, distance)\n",
      "File \u001b[1;32mc:\\Users\\Kafka\\anaconda3\\envs\\ox\\Lib\\site-packages\\numpy\\core\\_methods.py:49\u001b[0m, in \u001b[0;36m_sum\u001b[1;34m(a, axis, dtype, out, keepdims, initial, where)\u001b[0m\n\u001b[0;32m     47\u001b[0m \u001b[39mdef\u001b[39;00m \u001b[39m_sum\u001b[39m(a, axis\u001b[39m=\u001b[39m\u001b[39mNone\u001b[39;00m, dtype\u001b[39m=\u001b[39m\u001b[39mNone\u001b[39;00m, out\u001b[39m=\u001b[39m\u001b[39mNone\u001b[39;00m, keepdims\u001b[39m=\u001b[39m\u001b[39mFalse\u001b[39;00m,\n\u001b[0;32m     48\u001b[0m          initial\u001b[39m=\u001b[39m_NoValue, where\u001b[39m=\u001b[39m\u001b[39mTrue\u001b[39;00m):\n\u001b[1;32m---> 49\u001b[0m     \u001b[39mreturn\u001b[39;00m umr_sum(a, axis, dtype, out, keepdims, initial, where)\n",
      "\u001b[1;31mKeyboardInterrupt\u001b[0m: "
     ]
    },
    {
     "data": {
      "image/png": "[encoded data removed]",
      "text/plain": [
       "<Figure size 432x288 with 1 Axes>"
      ]
     },
     "metadata": {},
     "output_type": "display_data"
    }
   ],
   "source": [
    "nx.draw(G)"
   ]
  }
 ],
 "metadata": {
  "kernelspec": {
   "display_name": "Python 3.12.0 ('ox')",
   "language": "python",
   "name": "python3"
  },
  "language_info": {
   "codemirror_mode": {
    "name": "ipython",
    "version": 3
   },
   "file_extension": ".py",
   "mimetype": "text/x-python",
   "name": "python",
   "nbconvert_exporter": "python",
   "pygments_lexer": "ipython3",
   "version": "3.12.0"
  },
  "orig_nbformat": 4,
  "vscode": {
   "interpreter": {
    "hash": "aff6909269560dcfa4774f5121b7582e37140b96a52ea79e035a0a2c25a75e23"
   }
  }
 },
 "nbformat": 4,
 "nbformat_minor": 2
}
