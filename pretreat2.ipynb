{
 "cells": [
  {
   "cell_type": "code",
   "execution_count": 1,
   "metadata": {
    "ExecuteTime": {
     "end_time": "2023-10-27T02:13:22.941797500Z",
     "start_time": "2023-10-27T02:13:14.572849200Z"
    },
    "collapsed": false,
    "pycharm": {
     "name": ""
    }
   },
   "outputs": [],
   "source": [
    "import pandas as pd\n",
    "from geopy.distance import geodesic\n",
    "from math import *"
   ]
  },
  {
   "cell_type": "code",
   "execution_count": 2,
   "metadata": {
    "ExecuteTime": {
     "end_time": "2023-10-27T02:13:23.019498600Z",
     "start_time": "2023-10-27T02:13:22.956807700Z"
    }
   },
   "outputs": [
    {
     "data": {
      "text/html": [
       "<div>\n",
       "<style scoped>\n",
       "    .dataframe tbody tr th:only-of-type {\n",
       "        vertical-align: middle;\n",
       "    }\n",
       "\n",
       "    .dataframe tbody tr th {\n",
       "        vertical-align: top;\n",
       "    }\n",
       "\n",
       "    .dataframe thead th {\n",
       "        text-align: right;\n",
       "    }\n",
       "</style>\n",
       "<table border=\"1\" class=\"dataframe\">\n",
       "  <thead>\n",
       "    <tr style=\"text-align: right;\">\n",
       "      <th></th>\n",
       "      <th>id</th>\n",
       "      <th>coordinates</th>\n",
       "      <th>highway</th>\n",
       "      <th>length</th>\n",
       "      <th>lanes</th>\n",
       "      <th>tunnel</th>\n",
       "      <th>bridge</th>\n",
       "      <th>maxspeed</th>\n",
       "      <th>width</th>\n",
       "      <th>alley</th>\n",
       "      <th>roundabout</th>\n",
       "    </tr>\n",
       "  </thead>\n",
       "  <tbody>\n",
       "    <tr>\n",
       "      <th>0</th>\n",
       "      <td>0</td>\n",
       "      <td>[[116.3894407, 39.9062721], [116.3894463, 39.9...</td>\n",
       "      <td>4</td>\n",
       "      <td>28.981</td>\n",
       "      <td>0</td>\n",
       "      <td>0</td>\n",
       "      <td>0</td>\n",
       "      <td>0</td>\n",
       "      <td>0</td>\n",
       "      <td>0</td>\n",
       "      <td>0</td>\n",
       "    </tr>\n",
       "    <tr>\n",
       "      <th>1</th>\n",
       "      <td>1</td>\n",
       "      <td>[[116.3894407, 39.9062721], [116.386428, 39.90...</td>\n",
       "      <td>4</td>\n",
       "      <td>325.040</td>\n",
       "      <td>5</td>\n",
       "      <td>0</td>\n",
       "      <td>0</td>\n",
       "      <td>0</td>\n",
       "      <td>0</td>\n",
       "      <td>0</td>\n",
       "      <td>0</td>\n",
       "    </tr>\n",
       "    <tr>\n",
       "      <th>2</th>\n",
       "      <td>2</td>\n",
       "      <td>[[116.3930703, 39.906394], [116.3894407, 39.90...</td>\n",
       "      <td>4</td>\n",
       "      <td>309.891</td>\n",
       "      <td>5</td>\n",
       "      <td>0</td>\n",
       "      <td>0</td>\n",
       "      <td>0</td>\n",
       "      <td>0</td>\n",
       "      <td>0</td>\n",
       "      <td>0</td>\n",
       "    </tr>\n",
       "    <tr>\n",
       "      <th>3</th>\n",
       "      <td>3</td>\n",
       "      <td>[[116.3970962, 39.9065222], [116.3930703, 39.9...</td>\n",
       "      <td>4</td>\n",
       "      <td>343.693</td>\n",
       "      <td>5</td>\n",
       "      <td>0</td>\n",
       "      <td>0</td>\n",
       "      <td>0</td>\n",
       "      <td>0</td>\n",
       "      <td>0</td>\n",
       "      <td>0</td>\n",
       "    </tr>\n",
       "    <tr>\n",
       "      <th>4</th>\n",
       "      <td>4</td>\n",
       "      <td>[[116.3970962, 39.9065222], [116.3970144, 39.9...</td>\n",
       "      <td>11</td>\n",
       "      <td>34.704</td>\n",
       "      <td>0</td>\n",
       "      <td>0</td>\n",
       "      <td>0</td>\n",
       "      <td>0</td>\n",
       "      <td>0</td>\n",
       "      <td>0</td>\n",
       "      <td>0</td>\n",
       "    </tr>\n",
       "    <tr>\n",
       "      <th>...</th>\n",
       "      <td>...</td>\n",
       "      <td>...</td>\n",
       "      <td>...</td>\n",
       "      <td>...</td>\n",
       "      <td>...</td>\n",
       "      <td>...</td>\n",
       "      <td>...</td>\n",
       "      <td>...</td>\n",
       "      <td>...</td>\n",
       "      <td>...</td>\n",
       "      <td>...</td>\n",
       "    </tr>\n",
       "    <tr>\n",
       "      <th>38022</th>\n",
       "      <td>38022</td>\n",
       "      <td>[[116.4025587, 39.8338872], [116.4018688, 39.8...</td>\n",
       "      <td>6</td>\n",
       "      <td>328.697</td>\n",
       "      <td>0</td>\n",
       "      <td>0</td>\n",
       "      <td>0</td>\n",
       "      <td>0</td>\n",
       "      <td>0</td>\n",
       "      <td>0</td>\n",
       "      <td>0</td>\n",
       "    </tr>\n",
       "    <tr>\n",
       "      <th>38023</th>\n",
       "      <td>38023</td>\n",
       "      <td>[[116.406357, 39.8311645], [116.4062061, 39.83...</td>\n",
       "      <td>8</td>\n",
       "      <td>12.886</td>\n",
       "      <td>0</td>\n",
       "      <td>0</td>\n",
       "      <td>0</td>\n",
       "      <td>0</td>\n",
       "      <td>0</td>\n",
       "      <td>0</td>\n",
       "      <td>0</td>\n",
       "    </tr>\n",
       "    <tr>\n",
       "      <th>38024</th>\n",
       "      <td>38024</td>\n",
       "      <td>[[116.406357, 39.8311645], [116.4062083, 39.83...</td>\n",
       "      <td>6</td>\n",
       "      <td>304.376</td>\n",
       "      <td>0</td>\n",
       "      <td>0</td>\n",
       "      <td>0</td>\n",
       "      <td>0</td>\n",
       "      <td>0</td>\n",
       "      <td>0</td>\n",
       "      <td>0</td>\n",
       "    </tr>\n",
       "    <tr>\n",
       "      <th>38025</th>\n",
       "      <td>38025</td>\n",
       "      <td>[[116.4059676, 39.8338401], [116.406125, 39.83...</td>\n",
       "      <td>6</td>\n",
       "      <td>304.376</td>\n",
       "      <td>0</td>\n",
       "      <td>0</td>\n",
       "      <td>0</td>\n",
       "      <td>0</td>\n",
       "      <td>0</td>\n",
       "      <td>0</td>\n",
       "      <td>0</td>\n",
       "    </tr>\n",
       "    <tr>\n",
       "      <th>38026</th>\n",
       "      <td>38026</td>\n",
       "      <td>[[116.3121472, 39.9935096], [116.3121727, 39.9...</td>\n",
       "      <td>6</td>\n",
       "      <td>134.104</td>\n",
       "      <td>0</td>\n",
       "      <td>0</td>\n",
       "      <td>0</td>\n",
       "      <td>0</td>\n",
       "      <td>0</td>\n",
       "      <td>0</td>\n",
       "      <td>0</td>\n",
       "    </tr>\n",
       "  </tbody>\n",
       "</table>\n",
       "<p>38027 rows × 11 columns</p>\n",
       "</div>"
      ],
      "text/plain": [
       "          id                                        coordinates  highway  \\\n",
       "0          0  [[116.3894407, 39.9062721], [116.3894463, 39.9...        4   \n",
       "1          1  [[116.3894407, 39.9062721], [116.386428, 39.90...        4   \n",
       "2          2  [[116.3930703, 39.906394], [116.3894407, 39.90...        4   \n",
       "3          3  [[116.3970962, 39.9065222], [116.3930703, 39.9...        4   \n",
       "4          4  [[116.3970962, 39.9065222], [116.3970144, 39.9...       11   \n",
       "...      ...                                                ...      ...   \n",
       "38022  38022  [[116.4025587, 39.8338872], [116.4018688, 39.8...        6   \n",
       "38023  38023  [[116.406357, 39.8311645], [116.4062061, 39.83...        8   \n",
       "38024  38024  [[116.406357, 39.8311645], [116.4062083, 39.83...        6   \n",
       "38025  38025  [[116.4059676, 39.8338401], [116.406125, 39.83...        6   \n",
       "38026  38026  [[116.3121472, 39.9935096], [116.3121727, 39.9...        6   \n",
       "\n",
       "        length  lanes  tunnel  bridge  maxspeed  width  alley  roundabout  \n",
       "0       28.981      0       0       0         0      0      0           0  \n",
       "1      325.040      5       0       0         0      0      0           0  \n",
       "2      309.891      5       0       0         0      0      0           0  \n",
       "3      343.693      5       0       0         0      0      0           0  \n",
       "4       34.704      0       0       0         0      0      0           0  \n",
       "...        ...    ...     ...     ...       ...    ...    ...         ...  \n",
       "38022  328.697      0       0       0         0      0      0           0  \n",
       "38023   12.886      0       0       0         0      0      0           0  \n",
       "38024  304.376      0       0       0         0      0      0           0  \n",
       "38025  304.376      0       0       0         0      0      0           0  \n",
       "38026  134.104      0       0       0         0      0      0           0  \n",
       "\n",
       "[38027 rows x 11 columns]"
      ]
     },
     "execution_count": 2,
     "metadata": {},
     "output_type": "execute_result"
    }
   ],
   "source": [
    "road = pd.read_csv('data/road.csv')\n",
    "road"
   ]
  },
  {
   "cell_type": "code",
   "execution_count": 3,
   "metadata": {
    "ExecuteTime": {
     "end_time": "2023-10-27T04:54:16.902935900Z",
     "start_time": "2023-10-27T04:48:22.149416900Z"
    }
   },
   "outputs": [
    {
     "ename": "ValueError",
     "evalue": "All arrays must be of the same length",
     "output_type": "error",
     "traceback": [
      "\u001b[1;31m---------------------------------------------------------------------------\u001b[0m",
      "\u001b[1;31mValueError\u001b[0m                                Traceback (most recent call last)",
      "Cell \u001b[1;32mIn[3], line 12\u001b[0m\n\u001b[0;32m     10\u001b[0m         new_row \u001b[38;5;241m=\u001b[39m pd\u001b[38;5;241m.\u001b[39mDataFrame({\u001b[38;5;124m'\u001b[39m\u001b[38;5;124mold_id\u001b[39m\u001b[38;5;124m'\u001b[39m:row[\u001b[38;5;124m'\u001b[39m\u001b[38;5;124mid\u001b[39m\u001b[38;5;124m'\u001b[39m],\u001b[38;5;124m'\u001b[39m\u001b[38;5;124mcod1\u001b[39m\u001b[38;5;124m'\u001b[39m:List[\u001b[38;5;241m0\u001b[39m],\u001b[38;5;124m'\u001b[39m\u001b[38;5;124mcod2\u001b[39m\u001b[38;5;124m'\u001b[39m:List[\u001b[38;5;241m1\u001b[39m] ,\u001b[38;5;124m'\u001b[39m\u001b[38;5;124mcod1_lon\u001b[39m\u001b[38;5;124m'\u001b[39m:[List[\u001b[38;5;241m0\u001b[39m][\u001b[38;5;241m0\u001b[39m]], \u001b[38;5;124m'\u001b[39m\u001b[38;5;124mcod1_lat\u001b[39m\u001b[38;5;124m'\u001b[39m:[List[\u001b[38;5;241m0\u001b[39m][\u001b[38;5;241m1\u001b[39m]], \u001b[38;5;124m'\u001b[39m\u001b[38;5;124mcod2_lon\u001b[39m\u001b[38;5;124m'\u001b[39m:[List[\u001b[38;5;241m1\u001b[39m][\u001b[38;5;241m0\u001b[39m]], \u001b[38;5;124m'\u001b[39m\u001b[38;5;124mcod2_lat\u001b[39m\u001b[38;5;124m'\u001b[39m:[List[\u001b[38;5;241m1\u001b[39m][\u001b[38;5;241m1\u001b[39m]]})\n\u001b[0;32m     11\u001b[0m         df \u001b[38;5;241m=\u001b[39m pd\u001b[38;5;241m.\u001b[39mconcat([df,new_row])\n\u001b[1;32m---> 12\u001b[0m road\u001b[38;5;241m.\u001b[39mapply(func, axis\u001b[38;5;241m=\u001b[39m\u001b[38;5;241m1\u001b[39m)\n\u001b[0;32m     13\u001b[0m df\n",
      "File \u001b[1;32mc:\\Users\\Kafka\\anaconda3\\envs\\ox\\Lib\\site-packages\\pandas\\core\\frame.py:10037\u001b[0m, in \u001b[0;36mDataFrame.apply\u001b[1;34m(self, func, axis, raw, result_type, args, by_row, **kwargs)\u001b[0m\n\u001b[0;32m  10025\u001b[0m \u001b[39mfrom\u001b[39;00m \u001b[39mpandas\u001b[39;00m\u001b[39m.\u001b[39;00m\u001b[39mcore\u001b[39;00m\u001b[39m.\u001b[39;00m\u001b[39mapply\u001b[39;00m \u001b[39mimport\u001b[39;00m frame_apply\n\u001b[0;32m  10027\u001b[0m op \u001b[39m=\u001b[39m frame_apply(\n\u001b[0;32m  10028\u001b[0m     \u001b[39mself\u001b[39m,\n\u001b[0;32m  10029\u001b[0m     func\u001b[39m=\u001b[39mfunc,\n\u001b[1;32m   (...)\u001b[0m\n\u001b[0;32m  10035\u001b[0m     kwargs\u001b[39m=\u001b[39mkwargs,\n\u001b[0;32m  10036\u001b[0m )\n\u001b[1;32m> 10037\u001b[0m \u001b[39mreturn\u001b[39;00m op\u001b[39m.\u001b[39mapply()\u001b[39m.\u001b[39m__finalize__(\u001b[39mself\u001b[39m, method\u001b[39m=\u001b[39m\u001b[39m\"\u001b[39m\u001b[39mapply\u001b[39m\u001b[39m\"\u001b[39m)\n",
      "File \u001b[1;32mc:\\Users\\Kafka\\anaconda3\\envs\\ox\\Lib\\site-packages\\pandas\\core\\apply.py:837\u001b[0m, in \u001b[0;36mFrameApply.apply\u001b[1;34m(self)\u001b[0m\n\u001b[0;32m    834\u001b[0m \u001b[39melif\u001b[39;00m \u001b[39mself\u001b[39m\u001b[39m.\u001b[39mraw:\n\u001b[0;32m    835\u001b[0m     \u001b[39mreturn\u001b[39;00m \u001b[39mself\u001b[39m\u001b[39m.\u001b[39mapply_raw()\n\u001b[1;32m--> 837\u001b[0m \u001b[39mreturn\u001b[39;00m \u001b[39mself\u001b[39m\u001b[39m.\u001b[39mapply_standard()\n",
      "File \u001b[1;32mc:\\Users\\Kafka\\anaconda3\\envs\\ox\\Lib\\site-packages\\pandas\\core\\apply.py:963\u001b[0m, in \u001b[0;36mFrameApply.apply_standard\u001b[1;34m(self)\u001b[0m\n\u001b[0;32m    962\u001b[0m \u001b[39mdef\u001b[39;00m \u001b[39mapply_standard\u001b[39m(\u001b[39mself\u001b[39m):\n\u001b[1;32m--> 963\u001b[0m     results, res_index \u001b[39m=\u001b[39m \u001b[39mself\u001b[39m\u001b[39m.\u001b[39mapply_series_generator()\n\u001b[0;32m    965\u001b[0m     \u001b[39m# wrap results\u001b[39;00m\n\u001b[0;32m    966\u001b[0m     \u001b[39mreturn\u001b[39;00m \u001b[39mself\u001b[39m\u001b[39m.\u001b[39mwrap_results(results, res_index)\n",
      "File \u001b[1;32mc:\\Users\\Kafka\\anaconda3\\envs\\ox\\Lib\\site-packages\\pandas\\core\\apply.py:979\u001b[0m, in \u001b[0;36mFrameApply.apply_series_generator\u001b[1;34m(self)\u001b[0m\n\u001b[0;32m    976\u001b[0m \u001b[39mwith\u001b[39;00m option_context(\u001b[39m\"\u001b[39m\u001b[39mmode.chained_assignment\u001b[39m\u001b[39m\"\u001b[39m, \u001b[39mNone\u001b[39;00m):\n\u001b[0;32m    977\u001b[0m     \u001b[39mfor\u001b[39;00m i, v \u001b[39min\u001b[39;00m \u001b[39menumerate\u001b[39m(series_gen):\n\u001b[0;32m    978\u001b[0m         \u001b[39m# ignore SettingWithCopy here in case the user mutates\u001b[39;00m\n\u001b[1;32m--> 979\u001b[0m         results[i] \u001b[39m=\u001b[39m \u001b[39mself\u001b[39m\u001b[39m.\u001b[39mfunc(v, \u001b[39m*\u001b[39m\u001b[39mself\u001b[39m\u001b[39m.\u001b[39margs, \u001b[39m*\u001b[39m\u001b[39m*\u001b[39m\u001b[39mself\u001b[39m\u001b[39m.\u001b[39mkwargs)\n\u001b[0;32m    980\u001b[0m         \u001b[39mif\u001b[39;00m \u001b[39misinstance\u001b[39m(results[i], ABCSeries):\n\u001b[0;32m    981\u001b[0m             \u001b[39m# If we have a view on v, we need to make a copy because\u001b[39;00m\n\u001b[0;32m    982\u001b[0m             \u001b[39m#  series_generator will swap out the underlying data\u001b[39;00m\n\u001b[0;32m    983\u001b[0m             results[i] \u001b[39m=\u001b[39m results[i]\u001b[39m.\u001b[39mcopy(deep\u001b[39m=\u001b[39m\u001b[39mFalse\u001b[39;00m)\n",
      "Cell \u001b[1;32mIn[3], line 10\u001b[0m, in \u001b[0;36mfunc\u001b[1;34m(row)\u001b[0m\n\u001b[0;32m      8\u001b[0m         df \u001b[38;5;241m=\u001b[39m pd\u001b[38;5;241m.\u001b[39mconcat([df,new_row])\n\u001b[0;32m      9\u001b[0m \u001b[38;5;28;01melse\u001b[39;00m:\n\u001b[1;32m---> 10\u001b[0m     new_row \u001b[38;5;241m=\u001b[39m pd\u001b[38;5;241m.\u001b[39mDataFrame({\u001b[38;5;124m'\u001b[39m\u001b[38;5;124mold_id\u001b[39m\u001b[38;5;124m'\u001b[39m:row[\u001b[38;5;124m'\u001b[39m\u001b[38;5;124mid\u001b[39m\u001b[38;5;124m'\u001b[39m],\u001b[38;5;124m'\u001b[39m\u001b[38;5;124mcod1\u001b[39m\u001b[38;5;124m'\u001b[39m:List[\u001b[38;5;241m0\u001b[39m],\u001b[38;5;124m'\u001b[39m\u001b[38;5;124mcod2\u001b[39m\u001b[38;5;124m'\u001b[39m:List[\u001b[38;5;241m1\u001b[39m] ,\u001b[38;5;124m'\u001b[39m\u001b[38;5;124mcod1_lon\u001b[39m\u001b[38;5;124m'\u001b[39m:[List[\u001b[38;5;241m0\u001b[39m][\u001b[38;5;241m0\u001b[39m]], \u001b[38;5;124m'\u001b[39m\u001b[38;5;124mcod1_lat\u001b[39m\u001b[38;5;124m'\u001b[39m:[List[\u001b[38;5;241m0\u001b[39m][\u001b[38;5;241m1\u001b[39m]], \u001b[38;5;124m'\u001b[39m\u001b[38;5;124mcod2_lon\u001b[39m\u001b[38;5;124m'\u001b[39m:[List[\u001b[38;5;241m1\u001b[39m][\u001b[38;5;241m0\u001b[39m]], \u001b[38;5;124m'\u001b[39m\u001b[38;5;124mcod2_lat\u001b[39m\u001b[38;5;124m'\u001b[39m:[List[\u001b[38;5;241m1\u001b[39m][\u001b[38;5;241m1\u001b[39m]]})\n\u001b[0;32m     11\u001b[0m     df \u001b[38;5;241m=\u001b[39m pd\u001b[38;5;241m.\u001b[39mconcat([df,new_row])\n",
      "File \u001b[1;32mc:\\Users\\Kafka\\anaconda3\\envs\\ox\\Lib\\site-packages\\pandas\\core\\frame.py:736\u001b[0m, in \u001b[0;36mDataFrame.__init__\u001b[1;34m(self, data, index, columns, dtype, copy)\u001b[0m\n\u001b[0;32m    730\u001b[0m     mgr \u001b[39m=\u001b[39m \u001b[39mself\u001b[39m\u001b[39m.\u001b[39m_init_mgr(\n\u001b[0;32m    731\u001b[0m         data, axes\u001b[39m=\u001b[39m{\u001b[39m\"\u001b[39m\u001b[39mindex\u001b[39m\u001b[39m\"\u001b[39m: index, \u001b[39m\"\u001b[39m\u001b[39mcolumns\u001b[39m\u001b[39m\"\u001b[39m: columns}, dtype\u001b[39m=\u001b[39mdtype, copy\u001b[39m=\u001b[39mcopy\n\u001b[0;32m    732\u001b[0m     )\n\u001b[0;32m    734\u001b[0m \u001b[39melif\u001b[39;00m \u001b[39misinstance\u001b[39m(data, \u001b[39mdict\u001b[39m):\n\u001b[0;32m    735\u001b[0m     \u001b[39m# GH#38939 de facto copy defaults to False only in non-dict cases\u001b[39;00m\n\u001b[1;32m--> 736\u001b[0m     mgr \u001b[39m=\u001b[39m dict_to_mgr(data, index, columns, dtype\u001b[39m=\u001b[39mdtype, copy\u001b[39m=\u001b[39mcopy, typ\u001b[39m=\u001b[39mmanager)\n\u001b[0;32m    737\u001b[0m \u001b[39melif\u001b[39;00m \u001b[39misinstance\u001b[39m(data, ma\u001b[39m.\u001b[39mMaskedArray):\n\u001b[0;32m    738\u001b[0m     \u001b[39mfrom\u001b[39;00m \u001b[39mnumpy\u001b[39;00m\u001b[39m.\u001b[39;00m\u001b[39mma\u001b[39;00m \u001b[39mimport\u001b[39;00m mrecords\n",
      "File \u001b[1;32mc:\\Users\\Kafka\\anaconda3\\envs\\ox\\Lib\\site-packages\\pandas\\core\\internals\\construction.py:503\u001b[0m, in \u001b[0;36mdict_to_mgr\u001b[1;34m(data, index, columns, dtype, typ, copy)\u001b[0m\n\u001b[0;32m    499\u001b[0m     \u001b[39melse\u001b[39;00m:\n\u001b[0;32m    500\u001b[0m         \u001b[39m# dtype check to exclude e.g. range objects, scalars\u001b[39;00m\n\u001b[0;32m    501\u001b[0m         arrays \u001b[39m=\u001b[39m [x\u001b[39m.\u001b[39mcopy() \u001b[39mif\u001b[39;00m \u001b[39mhasattr\u001b[39m(x, \u001b[39m\"\u001b[39m\u001b[39mdtype\u001b[39m\u001b[39m\"\u001b[39m) \u001b[39melse\u001b[39;00m x \u001b[39mfor\u001b[39;00m x \u001b[39min\u001b[39;00m arrays]\n\u001b[1;32m--> 503\u001b[0m \u001b[39mreturn\u001b[39;00m arrays_to_mgr(arrays, columns, index, dtype\u001b[39m=\u001b[39mdtype, typ\u001b[39m=\u001b[39mtyp, consolidate\u001b[39m=\u001b[39mcopy)\n",
      "File \u001b[1;32mc:\\Users\\Kafka\\anaconda3\\envs\\ox\\Lib\\site-packages\\pandas\\core\\internals\\construction.py:114\u001b[0m, in \u001b[0;36marrays_to_mgr\u001b[1;34m(arrays, columns, index, dtype, verify_integrity, typ, consolidate)\u001b[0m\n\u001b[0;32m    111\u001b[0m \u001b[39mif\u001b[39;00m verify_integrity:\n\u001b[0;32m    112\u001b[0m     \u001b[39m# figure out the index, if necessary\u001b[39;00m\n\u001b[0;32m    113\u001b[0m     \u001b[39mif\u001b[39;00m index \u001b[39mis\u001b[39;00m \u001b[39mNone\u001b[39;00m:\n\u001b[1;32m--> 114\u001b[0m         index \u001b[39m=\u001b[39m _extract_index(arrays)\n\u001b[0;32m    115\u001b[0m     \u001b[39melse\u001b[39;00m:\n\u001b[0;32m    116\u001b[0m         index \u001b[39m=\u001b[39m ensure_index(index)\n",
      "File \u001b[1;32mc:\\Users\\Kafka\\anaconda3\\envs\\ox\\Lib\\site-packages\\pandas\\core\\internals\\construction.py:677\u001b[0m, in \u001b[0;36m_extract_index\u001b[1;34m(data)\u001b[0m\n\u001b[0;32m    675\u001b[0m lengths \u001b[39m=\u001b[39m \u001b[39mlist\u001b[39m(\u001b[39mset\u001b[39m(raw_lengths))\n\u001b[0;32m    676\u001b[0m \u001b[39mif\u001b[39;00m \u001b[39mlen\u001b[39m(lengths) \u001b[39m>\u001b[39m \u001b[39m1\u001b[39m:\n\u001b[1;32m--> 677\u001b[0m     \u001b[39mraise\u001b[39;00m \u001b[39mValueError\u001b[39;00m(\u001b[39m\"\u001b[39m\u001b[39mAll arrays must be of the same length\u001b[39m\u001b[39m\"\u001b[39m)\n\u001b[0;32m    679\u001b[0m \u001b[39mif\u001b[39;00m have_dicts:\n\u001b[0;32m    680\u001b[0m     \u001b[39mraise\u001b[39;00m \u001b[39mValueError\u001b[39;00m(\n\u001b[0;32m    681\u001b[0m         \u001b[39m\"\u001b[39m\u001b[39mMixing dicts with non-Series may lead to ambiguous ordering.\u001b[39m\u001b[39m\"\u001b[39m\n\u001b[0;32m    682\u001b[0m     )\n",
      "\u001b[1;31mValueError\u001b[0m: All arrays must be of the same length"
     ]
    }
   ],
   "source": [
    "df = pd.DataFrame(columns=['old_id', 'cod1', 'cod2', 'cod1_lon', 'cod1_lat','cod2_lon','cod2_lat'])\n",
    "def func(row):\n",
    "    global df\n",
    "    List = [tuple(sublist) for sublist in eval(row['coordinates'])]\n",
    "    if len(List) > 2:\n",
    "        for i in range(len(List)-1):\n",
    "            new_row = pd.DataFrame({'old_id':row['id'], 'cod1':List[i],'cod2':List[i+1] ,'cod1_lon':[List[i][0]], 'cod1_lat':[List[i][1]], 'cod2_lon':[List[i+1][0]], 'cod2_lat':[List[i+1][1]]})\n",
    "            df = pd.concat([df,new_row])\n",
    "    else:\n",
    "        new_row = pd.DataFrame({'old_id':row['id'],'cod1':List[0],'cod2':List[1] ,'cod1_lon':[List[0][0]], 'cod1_lat':[List[0][1]], 'cod2_lon':[List[1][0]], 'cod2_lat':[List[1][1]]})\n",
    "        df = pd.concat([df,new_row])\n",
    "road.apply(func, axis=1)\n",
    "df"
   ]
  },
  {
   "cell_type": "code",
   "execution_count": null,
   "metadata": {
    "ExecuteTime": {
     "end_time": "2023-10-27T05:12:33.792568800Z",
     "start_time": "2023-10-27T05:12:33.199338300Z"
    }
   },
   "outputs": [],
   "source": [
    "df.to_csv('data/road1.csv', index=False) # list of edges"
   ]
  },
  {
   "cell_type": "code",
   "execution_count": null,
   "metadata": {
    "ExecuteTime": {
     "end_time": "2023-10-27T02:17:48.798435800Z",
     "start_time": "2023-10-27T02:17:48.721362200Z"
    }
   },
   "outputs": [],
   "source": [
    "road1 = pd.read_csv('data/road1.csv')\n",
    "road1"
   ]
  },
  {
   "cell_type": "code",
   "execution_count": null,
   "metadata": {
    "ExecuteTime": {
     "end_time": "2023-10-27T02:18:05.263268700Z",
     "start_time": "2023-10-27T02:17:48.800436400Z"
    }
   },
   "outputs": [],
   "source": [
    "\"\"\"\n",
    "    计算两个经纬度坐标之间的距离\n",
    "    :param coord1, coord2: 第一个坐标，格式为 (经度1, 纬度1), (经度2, 纬度2)\n",
    "    :return: 距离（单位：米）\n",
    "\"\"\"\n",
    "def calculate_distance(coord1, coord2):\n",
    "    coord_1 = (coord1[1], coord1[0])\n",
    "    coord_2 = (coord2[1], coord2[0])\n",
    "    distance = geodesic(coord_1, coord_2).meters\n",
    "    return distance\n",
    "\n",
    "road1['dis']=0\n",
    "def new_dis(row):\n",
    "    row['dis'] = calculate_distance((row['cod1_lon'], row['cod1_lat']), (row['cod2_lon'], row['cod2_lat']))\n",
    "    return row\n",
    "road1 = road1.apply(new_dis, axis=1)"
   ]
  },
  {
   "cell_type": "code",
   "execution_count": null,
   "metadata": {},
   "outputs": [],
   "source": [
    "road1"
   ]
  },
  {
   "cell_type": "code",
   "execution_count": null,
   "metadata": {
    "ExecuteTime": {
     "end_time": "2023-10-27T02:18:05.492330100Z",
     "start_time": "2023-10-27T02:18:05.264269600Z"
    }
   },
   "outputs": [],
   "source": [
    "road1.to_csv('data/road1.csv', index=False)"
   ]
  },
  {
   "cell_type": "code",
   "execution_count": null,
   "metadata": {
    "ExecuteTime": {
     "end_time": "2023-10-27T02:20:49.657151400Z",
     "start_time": "2023-10-27T02:18:05.502332500Z"
    }
   },
   "outputs": [],
   "source": [
    "df2 = pd.DataFrame(columns=['coordinate'])\n",
    "for i in range(len(road1)):\n",
    "    row = road1.iloc[i,:]\n",
    "    df2 = pd.concat([df2, pd.DataFrame({'coordinate':[row['coordinate1']]})])\n",
    "    df2 = pd.concat([df2, pd.DataFrame({'coordinate':[row['coordinate2']]})])\n",
    "df2"
   ]
  },
  {
   "cell_type": "code",
   "execution_count": null,
   "metadata": {
    "ExecuteTime": {
     "end_time": "2023-10-27T02:20:49.697585500Z",
     "start_time": "2023-10-27T02:20:49.658151700Z"
    }
   },
   "outputs": [],
   "source": [
    "df2 = df2.drop_duplicates()\n",
    "df2"
   ]
  },
  {
   "cell_type": "code",
   "execution_count": null,
   "metadata": {
    "ExecuteTime": {
     "end_time": "2023-10-27T02:20:49.824620Z",
     "start_time": "2023-10-27T02:20:49.689584700Z"
    }
   },
   "outputs": [],
   "source": [
    "df2.to_csv('data/road_node.csv',index=False)  # list of nodes"
   ]
  }
 ],
 "metadata": {
  "kernelspec": {
   "display_name": "Python 3.12.0 ('ox')",
   "language": "python",
   "name": "python3"
  },
  "language_info": {
   "codemirror_mode": {
    "name": "ipython",
    "version": 3
   },
   "file_extension": ".py",
   "mimetype": "text/x-python",
   "name": "python",
   "nbconvert_exporter": "python",
   "pygments_lexer": "ipython3",
   "version": "3.12.0"
  },
  "orig_nbformat": 4,
  "vscode": {
   "interpreter": {
    "hash": "aff6909269560dcfa4774f5121b7582e37140b96a52ea79e035a0a2c25a75e23"
   }
  }
 },
 "nbformat": 4,
 "nbformat_minor": 2
}
