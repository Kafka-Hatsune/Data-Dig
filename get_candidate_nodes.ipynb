{
 "cells": [
  {
   "cell_type": "code",
   "execution_count": 99,
   "outputs": [],
   "source": [
    "from geopy.distance import great_circle\n",
    "from geopy.point import Point\n",
    "\n",
    "base_point = Point(39.9050, 116.4053)  # 北京市的(纬(lat), 经(lon))\n",
    "distance_meters = 100.0\n",
    "\n",
    "# 使用球面三角法计算目标点的经纬度\n",
    "north_destination = great_circle(meters=distance_meters).destination(base_point, 0)  # 向北100米\n",
    "east_destination = great_circle(meters=distance_meters).destination(base_point, 90)\n",
    "\n",
    "# 北京市经向/纬向移动100米产生的经/纬度变化\n",
    "D_LAT = north_destination.latitude - base_point.latitude\n",
    "D_LON = east_destination.longitude - base_point.longitude"
   ],
   "metadata": {
    "collapsed": false,
    "ExecuteTime": {
     "end_time": "2023-10-27T05:37:33.991621400Z",
     "start_time": "2023-10-27T05:37:33.969266500Z"
    }
   }
  },
  {
   "cell_type": "code",
   "execution_count": 100,
   "outputs": [
    {
     "name": "stdout",
     "output_type": "stream",
     "text": [
      "南北纬度变化：0.0008993203354847878\n",
      "东西经度变化：0.001172349866791933\n"
     ]
    }
   ],
   "source": [
    "print(f\"南北纬度变化：{D_LAT}\")\n",
    "print(f\"东西经度变化：{D_LON}\")"
   ],
   "metadata": {
    "collapsed": false,
    "ExecuteTime": {
     "end_time": "2023-10-27T05:37:34.009630Z",
     "start_time": "2023-10-27T05:37:33.983440400Z"
    }
   }
  },
  {
   "cell_type": "markdown",
   "source": [
    "**input**: 轨迹节点的GPS经纬度$p_i(x_i, y_i)$\n",
    "**param**: 矩形范围的半边长经纬度$d_{lon}$和$d_{lat}$\n",
    "**output**: $p_i$的候选点集$C\\{c_i^1, ..., c_i^n\\}$"
   ],
   "metadata": {
    "collapsed": false
   }
  },
  {
   "cell_type": "code",
   "execution_count": 101,
   "outputs": [
    {
     "data": {
      "text/plain": "                      coordinate\n0      (116.3894407, 39.9062721)\n1      (116.3894463, 39.9060115)\n2       (116.386428, 39.9061687)\n3      (116.3856338, 39.9061421)\n4       (116.3930703, 39.906394)\n...                          ...\n49725  (116.4061092, 39.8315409)\n49726  (116.4060903, 39.8321389)\n49727  (116.4060871, 39.8328152)\n49728    (116.406125, 39.833363)\n49729  (116.4059676, 39.8338401)\n\n[49730 rows x 1 columns]",
      "text/html": "<div>\n<style scoped>\n    .dataframe tbody tr th:only-of-type {\n        vertical-align: middle;\n    }\n\n    .dataframe tbody tr th {\n        vertical-align: top;\n    }\n\n    .dataframe thead th {\n        text-align: right;\n    }\n</style>\n<table border=\"1\" class=\"dataframe\">\n  <thead>\n    <tr style=\"text-align: right;\">\n      <th></th>\n      <th>coordinate</th>\n    </tr>\n  </thead>\n  <tbody>\n    <tr>\n      <th>0</th>\n      <td>(116.3894407, 39.9062721)</td>\n    </tr>\n    <tr>\n      <th>1</th>\n      <td>(116.3894463, 39.9060115)</td>\n    </tr>\n    <tr>\n      <th>2</th>\n      <td>(116.386428, 39.9061687)</td>\n    </tr>\n    <tr>\n      <th>3</th>\n      <td>(116.3856338, 39.9061421)</td>\n    </tr>\n    <tr>\n      <th>4</th>\n      <td>(116.3930703, 39.906394)</td>\n    </tr>\n    <tr>\n      <th>...</th>\n      <td>...</td>\n    </tr>\n    <tr>\n      <th>49725</th>\n      <td>(116.4061092, 39.8315409)</td>\n    </tr>\n    <tr>\n      <th>49726</th>\n      <td>(116.4060903, 39.8321389)</td>\n    </tr>\n    <tr>\n      <th>49727</th>\n      <td>(116.4060871, 39.8328152)</td>\n    </tr>\n    <tr>\n      <th>49728</th>\n      <td>(116.406125, 39.833363)</td>\n    </tr>\n    <tr>\n      <th>49729</th>\n      <td>(116.4059676, 39.8338401)</td>\n    </tr>\n  </tbody>\n</table>\n<p>49730 rows × 1 columns</p>\n</div>"
     },
     "execution_count": 101,
     "metadata": {},
     "output_type": "execute_result"
    }
   ],
   "source": [
    "import pandas as pd\n",
    "from geopy.distance import geodesic  # 计算两给定经纬度点之间的球面距离\n",
    "\n",
    "nodes = pd.read_csv(\"data/road_node.csv\")\n",
    "nodes"
   ],
   "metadata": {
    "collapsed": false,
    "ExecuteTime": {
     "end_time": "2023-10-27T05:37:34.029637500Z",
     "start_time": "2023-10-27T05:37:33.997627800Z"
    }
   }
  },
  {
   "cell_type": "code",
   "execution_count": 102,
   "outputs": [
    {
     "data": {
      "text/plain": "       old_id                coordinate1                coordinate2  \\\n0           0  (116.3894407, 39.9062721)  (116.3894463, 39.9060115)   \n1           1  (116.3894407, 39.9062721)   (116.386428, 39.9061687)   \n2           1   (116.386428, 39.9061687)  (116.3856338, 39.9061421)   \n3           2   (116.3930703, 39.906394)  (116.3894407, 39.9062721)   \n4           3  (116.3970962, 39.9065222)   (116.3930703, 39.906394)   \n...       ...                        ...                        ...   \n85390   38025  (116.4062083, 39.8313723)   (116.406357, 39.8311645)   \n85391   38026  (116.3121472, 39.9935096)  (116.3121727, 39.9931557)   \n85392   38026  (116.3121727, 39.9931557)  (116.3121191, 39.9930952)   \n85393   38026  (116.3121191, 39.9930952)  (116.3121553, 39.9926498)   \n85394   38026  (116.3121553, 39.9926498)  (116.3121705, 39.9923178)   \n\n       coordinate1_lat  coordinate1_lon  coordinate2_lat  coordinate2_lon  \n0            39.906272       116.389441        39.906011       116.389446  \n1            39.906272       116.389441        39.906169       116.386428  \n2            39.906169       116.386428        39.906142       116.385634  \n3            39.906394       116.393070        39.906272       116.389441  \n4            39.906522       116.397096        39.906394       116.393070  \n...                ...              ...              ...              ...  \n85390        39.831372       116.406208        39.831164       116.406357  \n85391        39.993510       116.312147        39.993156       116.312173  \n85392        39.993156       116.312173        39.993095       116.312119  \n85393        39.993095       116.312119        39.992650       116.312155  \n85394        39.992650       116.312155        39.992318       116.312171  \n\n[85395 rows x 7 columns]",
      "text/html": "<div>\n<style scoped>\n    .dataframe tbody tr th:only-of-type {\n        vertical-align: middle;\n    }\n\n    .dataframe tbody tr th {\n        vertical-align: top;\n    }\n\n    .dataframe thead th {\n        text-align: right;\n    }\n</style>\n<table border=\"1\" class=\"dataframe\">\n  <thead>\n    <tr style=\"text-align: right;\">\n      <th></th>\n      <th>old_id</th>\n      <th>coordinate1</th>\n      <th>coordinate2</th>\n      <th>coordinate1_lat</th>\n      <th>coordinate1_lon</th>\n      <th>coordinate2_lat</th>\n      <th>coordinate2_lon</th>\n    </tr>\n  </thead>\n  <tbody>\n    <tr>\n      <th>0</th>\n      <td>0</td>\n      <td>(116.3894407, 39.9062721)</td>\n      <td>(116.3894463, 39.9060115)</td>\n      <td>39.906272</td>\n      <td>116.389441</td>\n      <td>39.906011</td>\n      <td>116.389446</td>\n    </tr>\n    <tr>\n      <th>1</th>\n      <td>1</td>\n      <td>(116.3894407, 39.9062721)</td>\n      <td>(116.386428, 39.9061687)</td>\n      <td>39.906272</td>\n      <td>116.389441</td>\n      <td>39.906169</td>\n      <td>116.386428</td>\n    </tr>\n    <tr>\n      <th>2</th>\n      <td>1</td>\n      <td>(116.386428, 39.9061687)</td>\n      <td>(116.3856338, 39.9061421)</td>\n      <td>39.906169</td>\n      <td>116.386428</td>\n      <td>39.906142</td>\n      <td>116.385634</td>\n    </tr>\n    <tr>\n      <th>3</th>\n      <td>2</td>\n      <td>(116.3930703, 39.906394)</td>\n      <td>(116.3894407, 39.9062721)</td>\n      <td>39.906394</td>\n      <td>116.393070</td>\n      <td>39.906272</td>\n      <td>116.389441</td>\n    </tr>\n    <tr>\n      <th>4</th>\n      <td>3</td>\n      <td>(116.3970962, 39.9065222)</td>\n      <td>(116.3930703, 39.906394)</td>\n      <td>39.906522</td>\n      <td>116.397096</td>\n      <td>39.906394</td>\n      <td>116.393070</td>\n    </tr>\n    <tr>\n      <th>...</th>\n      <td>...</td>\n      <td>...</td>\n      <td>...</td>\n      <td>...</td>\n      <td>...</td>\n      <td>...</td>\n      <td>...</td>\n    </tr>\n    <tr>\n      <th>85390</th>\n      <td>38025</td>\n      <td>(116.4062083, 39.8313723)</td>\n      <td>(116.406357, 39.8311645)</td>\n      <td>39.831372</td>\n      <td>116.406208</td>\n      <td>39.831164</td>\n      <td>116.406357</td>\n    </tr>\n    <tr>\n      <th>85391</th>\n      <td>38026</td>\n      <td>(116.3121472, 39.9935096)</td>\n      <td>(116.3121727, 39.9931557)</td>\n      <td>39.993510</td>\n      <td>116.312147</td>\n      <td>39.993156</td>\n      <td>116.312173</td>\n    </tr>\n    <tr>\n      <th>85392</th>\n      <td>38026</td>\n      <td>(116.3121727, 39.9931557)</td>\n      <td>(116.3121191, 39.9930952)</td>\n      <td>39.993156</td>\n      <td>116.312173</td>\n      <td>39.993095</td>\n      <td>116.312119</td>\n    </tr>\n    <tr>\n      <th>85393</th>\n      <td>38026</td>\n      <td>(116.3121191, 39.9930952)</td>\n      <td>(116.3121553, 39.9926498)</td>\n      <td>39.993095</td>\n      <td>116.312119</td>\n      <td>39.992650</td>\n      <td>116.312155</td>\n    </tr>\n    <tr>\n      <th>85394</th>\n      <td>38026</td>\n      <td>(116.3121553, 39.9926498)</td>\n      <td>(116.3121705, 39.9923178)</td>\n      <td>39.992650</td>\n      <td>116.312155</td>\n      <td>39.992318</td>\n      <td>116.312171</td>\n    </tr>\n  </tbody>\n</table>\n<p>85395 rows × 7 columns</p>\n</div>"
     },
     "execution_count": 102,
     "metadata": {},
     "output_type": "execute_result"
    }
   ],
   "source": [
    "edges = pd.read_csv(\"data/road1.csv\")\n",
    "edges"
   ],
   "metadata": {
    "collapsed": false,
    "ExecuteTime": {
     "end_time": "2023-10-27T05:37:34.147215800Z",
     "start_time": "2023-10-27T05:37:34.030639500Z"
    }
   }
  },
  {
   "cell_type": "code",
   "execution_count": 103,
   "outputs": [
    {
     "data": {
      "text/plain": "      old_id                coordinate1                coordinate2  \\\n0          0  (116.3894407, 39.9062721)  (116.3894463, 39.9060115)   \n1          1  (116.3894407, 39.9062721)   (116.386428, 39.9061687)   \n3          2   (116.3930703, 39.906394)  (116.3894407, 39.9062721)   \n7558    2832  (116.3894463, 39.9060115)  (116.3930805, 39.9061466)   \n7559    2833  (116.3894463, 39.9060115)  (116.3894579, 39.9057692)   \n7560    2833  (116.3894579, 39.9057692)  (116.3895611, 39.9036108)   \n9266    3550  (116.3881308, 39.9059712)  (116.3894463, 39.9060115)   \n\n      coordinate1_lat  coordinate1_lon  coordinate2_lat  coordinate2_lon  \n0           39.906272       116.389441        39.906011       116.389446  \n1           39.906272       116.389441        39.906169       116.386428  \n3           39.906394       116.393070        39.906272       116.389441  \n7558        39.906011       116.389446        39.906147       116.393080  \n7559        39.906011       116.389446        39.905769       116.389458  \n7560        39.905769       116.389458        39.903611       116.389561  \n9266        39.905971       116.388131        39.906011       116.389446  ",
      "text/html": "<div>\n<style scoped>\n    .dataframe tbody tr th:only-of-type {\n        vertical-align: middle;\n    }\n\n    .dataframe tbody tr th {\n        vertical-align: top;\n    }\n\n    .dataframe thead th {\n        text-align: right;\n    }\n</style>\n<table border=\"1\" class=\"dataframe\">\n  <thead>\n    <tr style=\"text-align: right;\">\n      <th></th>\n      <th>old_id</th>\n      <th>coordinate1</th>\n      <th>coordinate2</th>\n      <th>coordinate1_lat</th>\n      <th>coordinate1_lon</th>\n      <th>coordinate2_lat</th>\n      <th>coordinate2_lon</th>\n    </tr>\n  </thead>\n  <tbody>\n    <tr>\n      <th>0</th>\n      <td>0</td>\n      <td>(116.3894407, 39.9062721)</td>\n      <td>(116.3894463, 39.9060115)</td>\n      <td>39.906272</td>\n      <td>116.389441</td>\n      <td>39.906011</td>\n      <td>116.389446</td>\n    </tr>\n    <tr>\n      <th>1</th>\n      <td>1</td>\n      <td>(116.3894407, 39.9062721)</td>\n      <td>(116.386428, 39.9061687)</td>\n      <td>39.906272</td>\n      <td>116.389441</td>\n      <td>39.906169</td>\n      <td>116.386428</td>\n    </tr>\n    <tr>\n      <th>3</th>\n      <td>2</td>\n      <td>(116.3930703, 39.906394)</td>\n      <td>(116.3894407, 39.9062721)</td>\n      <td>39.906394</td>\n      <td>116.393070</td>\n      <td>39.906272</td>\n      <td>116.389441</td>\n    </tr>\n    <tr>\n      <th>7558</th>\n      <td>2832</td>\n      <td>(116.3894463, 39.9060115)</td>\n      <td>(116.3930805, 39.9061466)</td>\n      <td>39.906011</td>\n      <td>116.389446</td>\n      <td>39.906147</td>\n      <td>116.393080</td>\n    </tr>\n    <tr>\n      <th>7559</th>\n      <td>2833</td>\n      <td>(116.3894463, 39.9060115)</td>\n      <td>(116.3894579, 39.9057692)</td>\n      <td>39.906011</td>\n      <td>116.389446</td>\n      <td>39.905769</td>\n      <td>116.389458</td>\n    </tr>\n    <tr>\n      <th>7560</th>\n      <td>2833</td>\n      <td>(116.3894579, 39.9057692)</td>\n      <td>(116.3895611, 39.9036108)</td>\n      <td>39.905769</td>\n      <td>116.389458</td>\n      <td>39.903611</td>\n      <td>116.389561</td>\n    </tr>\n    <tr>\n      <th>9266</th>\n      <td>3550</td>\n      <td>(116.3881308, 39.9059712)</td>\n      <td>(116.3894463, 39.9060115)</td>\n      <td>39.905971</td>\n      <td>116.388131</td>\n      <td>39.906011</td>\n      <td>116.389446</td>\n    </tr>\n  </tbody>\n</table>\n</div>"
     },
     "execution_count": 103,
     "metadata": {},
     "output_type": "execute_result"
    }
   ],
   "source": [
    "def get_sub_edge_set(node_p, edge_set):\n",
    "    \"\"\"\n",
    "    用于获取边长为200m正方形内的所有边的函数\n",
    "    :param node_p: GPS轨迹点\n",
    "    :param edge_set: 路网edge集\n",
    "    :return: 边长为200m正方形内的所有边\n",
    "    \"\"\"\n",
    "    global D_LON, D_LAT\n",
    "    left_lon_limit = node_p[0] - D_LON\n",
    "    right_lon_limit = node_p[0] + D_LON\n",
    "    down_lat_limit = node_p[1] - D_LAT\n",
    "    up_lat_limit = node_p[1] + D_LAT\n",
    "    return edge_set[(left_lon_limit <= edge_set['coordinate1_lon']) & (edge_set['coordinate1_lon']  <= right_lon_limit) & (down_lat_limit <= edge_set['coordinate1_lat']) & (edge_set['coordinate1_lat'] <= up_lat_limit)\n",
    "                    | (left_lon_limit <= edge_set['coordinate2_lon']) & (edge_set['coordinate2_lon'] <= right_lon_limit) & (down_lat_limit <= edge_set['coordinate2_lat']) & (edge_set['coordinate2_lat'] <= up_lat_limit) ]\n",
    "\n",
    "sub_edge_set1 = get_sub_edge_set((116.3894407, 39.9062721), edges)\n",
    "sub_edge_set1"
   ],
   "metadata": {
    "collapsed": false,
    "ExecuteTime": {
     "end_time": "2023-10-27T05:37:34.157218Z",
     "start_time": "2023-10-27T05:37:34.141215300Z"
    }
   }
  },
  {
   "cell_type": "code",
   "execution_count": 104,
   "outputs": [],
   "source": [
    "from geopy.distance import geodesic\n",
    "def get_candidate_nodes(node_p, sub_edge_set):\n",
    "    \"\"\"\n",
    "    对于给定的GPS轨迹点求其候选点集的函数\n",
    "    :param node_p: GPS轨迹点，(务必以(lon, lat)的形式传入)\n",
    "    :param sub_edge_set: 由`get_sub_edge_set`函数求得的邻近边集\n",
    "    :return: list类型，候选点的id序列\n",
    "    \"\"\"\n",
    "    def cal_dis(row):\n",
    "        p = (node_p[1], node_p[0])\n",
    "        p1 = (row['coordinate1_lat'], row['coordinate1_lon'])\n",
    "        p2 = (row['coordinate2_lat'], row['coordinate2_lon'])\n",
    "        dist1 = geodesic(p, p1).meters\n",
    "        dist2 = geodesic(p, p2).meters\n",
    "        if dist1 < dist2:\n",
    "            row['min_dist'] = dist1\n",
    "            row['matched_node'] = 1\n",
    "        else:\n",
    "            row['min_dist'] = dist2\n",
    "            row['matched_node'] = 2\n",
    "        return row\n",
    "    sub_edge_set = sub_edge_set.apply(lambda row: cal_dis(row), axis=1)\n",
    "    res = []\n",
    "    for old_id, group in sub_edge_set.groupby(by='old_id'):\n",
    "        min_index = group['min_dist'].idxmin()\n",
    "        row = group.loc[min_index]\n",
    "        if row['matched_node'] == 1:\n",
    "            res.append(row['coordinate1'])\n",
    "        else:\n",
    "            res.append(row['coordinate2'])\n",
    "    return list(set(res))"
   ],
   "metadata": {
    "collapsed": false,
    "ExecuteTime": {
     "end_time": "2023-10-27T05:37:34.177237300Z",
     "start_time": "2023-10-27T05:37:34.155217500Z"
    }
   }
  },
  {
   "cell_type": "code",
   "execution_count": 105,
   "outputs": [
    {
     "data": {
      "text/plain": "[0, 1, 4, 7572]"
     },
     "execution_count": 105,
     "metadata": {},
     "output_type": "execute_result"
    }
   ],
   "source": [
    "candidate_set = get_candidate_nodes((116.3970859, 39.9067276), sub_edge_set1)\n",
    "node_ids = nodes[nodes['coordinate'].isin(candidate_set)].index.tolist()\n",
    "node_ids"
   ],
   "metadata": {
    "collapsed": false,
    "ExecuteTime": {
     "end_time": "2023-10-27T05:37:34.279498300Z",
     "start_time": "2023-10-27T05:37:34.171236100Z"
    }
   }
  }
 ],
 "metadata": {
  "kernelspec": {
   "display_name": "Python 3",
   "language": "python",
   "name": "python3"
  },
  "language_info": {
   "codemirror_mode": {
    "name": "ipython",
    "version": 2
   },
   "file_extension": ".py",
   "mimetype": "text/x-python",
   "name": "python",
   "nbconvert_exporter": "python",
   "pygments_lexer": "ipython2",
   "version": "2.7.6"
  }
 },
 "nbformat": 4,
 "nbformat_minor": 0
}
