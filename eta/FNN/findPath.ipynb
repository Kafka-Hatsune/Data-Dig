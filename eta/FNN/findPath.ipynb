{
 "cells": [
  {
   "cell_type": "code",
   "execution_count": 16,
   "metadata": {},
   "outputs": [],
   "source": [
    "# networkx 建图\n",
    "\n",
    "import networkx as nx\n",
    "import pandas as pd\n",
    "\n",
    "NODES_PATH = 'node_mid.csv'\n",
    "EDGES_PATH = 'road.csv'\n",
    "NODES_DF = pd.read_csv(NODES_PATH)\n",
    "EDGES_DF = pd.read_csv(EDGES_PATH)\n",
    "\n",
    "def create_graph():\n",
    "    G = nx.Graph() # 新建一张图\n",
    "    # 加点\n",
    "    for index, row in NODES_DF.iterrows():\n",
    "        G.add_node(row['id'])\n",
    "    # 加边\n",
    "    for index, row in EDGES_DF.iterrows():\n",
    "        G.add_edge(row['source'], row['target'], weight=row['cost'])\n",
    "    return G\n",
    "    "
   ]
  },
  {
   "cell_type": "code",
   "execution_count": 17,
   "metadata": {},
   "outputs": [
    {
     "name": "stdout",
     "output_type": "stream",
     "text": [
      "43066.0\n",
      "45166.0\n"
     ]
    },
    {
     "name": "stderr",
     "output_type": "stream",
     "text": [
      "C:\\Users\\attack315\\AppData\\Roaming\\Python\\Python37\\site-packages\\ipykernel_launcher.py:14: SettingWithCopyWarning: \n",
      "A value is trying to be set on a copy of a slice from a DataFrame.\n",
      "Try using .loc[row_indexer,col_indexer] = value instead\n",
      "\n",
      "See the caveats in the documentation: https://pandas.pydata.org/pandas-docs/stable/user_guide/indexing.html#returning-a-view-versus-a-copy\n",
      "  \n",
      "C:\\Users\\attack315\\AppData\\Roaming\\Python\\Python37\\site-packages\\ipykernel_launcher.py:14: SettingWithCopyWarning: \n",
      "A value is trying to be set on a copy of a slice from a DataFrame.\n",
      "Try using .loc[row_indexer,col_indexer] = value instead\n",
      "\n",
      "See the caveats in the documentation: https://pandas.pydata.org/pandas-docs/stable/user_guide/indexing.html#returning-a-view-versus-a-copy\n",
      "  \n"
     ]
    },
    {
     "data": {
      "text/plain": [
       "<function print>"
      ]
     },
     "execution_count": 17,
     "metadata": {},
     "output_type": "execute_result"
    }
   ],
   "source": [
    "from geopy.distance import geodesic\n",
    "\n",
    "FIELD_DELTA = 0.03\n",
    " \n",
    "def find_nearest_node(coordinateX, coordinateY):\n",
    "    \"\"\"\n",
    "    输入为待匹配点的坐标\n",
    "    寻找最近匹配点,寻找一个距离给定点对最近的点,并返回编号\n",
    "    \"\"\"\n",
    "    lb, rb = coordinateX - FIELD_DELTA, coordinateX + FIELD_DELTA\n",
    "    db, ub = coordinateY - FIELD_DELTA, coordinateY + FIELD_DELTA\n",
    "    condition = (NODES_DF['lon'] < rb) & (NODES_DF['lon'] > lb) & (NODES_DF['lat'] < ub) & (NODES_DF['lat'] > db)\n",
    "    sub_nodes_df = NODES_DF[condition]\n",
    "    sub_nodes_df['dis'] = sub_nodes_df.apply(lambda row: geodesic((coordinateY, coordinateX), (row['lat'], row['lon'])).kilometers, axis=1)\n",
    "    min_idx = sub_nodes_df['dis'].idxmin()\n",
    "    return sub_nodes_df.loc[min_idx]['id']"
   ]
  },
  {
   "cell_type": "code",
   "execution_count": 18,
   "metadata": {},
   "outputs": [],
   "source": [
    "# 求最短路\n",
    "def get_dijkstra_path(G, source, target):  \n",
    "    return nx.dijkstra_path(G, source=43066, target=45166)"
   ]
  }
 ],
 "metadata": {
  "kernelspec": {
   "display_name": "frb(gpu)",
   "language": "python",
   "name": "python3"
  },
  "language_info": {
   "codemirror_mode": {
    "name": "ipython",
    "version": 3
   },
   "file_extension": ".py",
   "mimetype": "text/x-python",
   "name": "python",
   "nbconvert_exporter": "python",
   "pygments_lexer": "ipython3",
   "version": "3.7.0"
  }
 },
 "nbformat": 4,
 "nbformat_minor": 2
}
